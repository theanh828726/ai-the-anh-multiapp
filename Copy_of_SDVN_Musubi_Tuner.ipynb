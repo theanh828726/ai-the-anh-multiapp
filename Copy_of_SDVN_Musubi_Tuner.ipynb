{
  "cells": [
    {
      "cell_type": "markdown",
      "metadata": {
        "id": "view-in-github",
        "colab_type": "text"
      },
      "source": [
        "<a href=\"https://colab.research.google.com/github/theanh828726/ai-the-anh-multiapp/blob/main/Copy_of_SDVN_Musubi_Tuner.ipynb\" target=\"_parent\"><img src=\"https://colab.research.google.com/assets/colab-badge.svg\" alt=\"Open In Colab\"/></a>"
      ]
    },
    {
      "cell_type": "markdown",
      "metadata": {
        "id": "-iUUqhJBwbNW"
      },
      "source": [
        "# [![](https://img.shields.io/badge/Musubi-Tuner-Blue)](https://github.com/kohya-ss/musubi-tuner) [![](https://img.shields.io/badge/Video-Hướng%20dẫn-ff0000)](https://youtu.be/CHUAkrPhoig) [![](https://img.shields.io/badge/Design-stablediffusion.vn-0075ff)](https://stablediffusion.vn) [![](https://img.shields.io/badge/Ver-25.2308-0075ff)](https://trainlora.vn) [![](https://img.shields.io/badge/All%20Tools-trainlora.vn-0075ff)](https://trainlora.vn) [![](https://img.shields.io/badge/SDVN-Library-green)](https://bit.ly/sdvn-lib) [![](https://img.shields.io/badge/Khoá%20học-All%20in%20one-red)](https://hungdiffusion.com/) [![](https://img.shields.io/badge/Group-Support-0075ff)](https://www.facebook.com/groups/stablediffusion.vn) [![](https://img.shields.io/discord/813085864355037235?color=blue&label=Discord&logo=Discord)](https://discord.gg/5SEtApPeyG)\n",
        "---\n",
        "`✨ Support training lora Kontext, Qwen, Qwen-Edit`"
      ]
    },
    {
      "cell_type": "markdown",
      "metadata": {
        "id": "YXK9gCuIvzvs"
      },
      "source": [
        "#⚙️ I. Cài đặt"
      ]
    },
    {
      "cell_type": "code",
      "execution_count": null,
      "metadata": {
        "cellView": "form",
        "id": "br2-uOpChoEp"
      },
      "outputs": [],
      "source": [
        "# @title ###Install\n",
        "import os\n",
        "from google.colab import drive\n",
        "\n",
        "drive.mount('/content/drive')\n",
        "root_dir = \"/content/\"\n",
        "data_dir = \"/content/drive/MyDrive/SD-Data\"\n",
        "repo_dir = \"/content/SDVN-musubi-tuner-colab\"\n",
        "\n",
        "if not os.path.exists(\"/content/musubi-tuner\"):\n",
        "  %cd /content\n",
        "  !git clone https://github.com/StableDiffusionVN/SDVN-musubi-tuner-colab\n",
        "  !git clone https://github.com/kohya-ss/musubi-tuner\n",
        "  %cd /content/musubi-tuner\n",
        "  !pip install -q -e .\n",
        "  !pip install -q toml aria2 OpenAI google-genai flash_attn\n",
        "\n",
        "%cd /content\n",
        "%run {repo_dir}/TrainScript.ipynb"
      ]
    },
    {
      "cell_type": "markdown",
      "metadata": {
        "id": "GJM2WBVLlkzZ"
      },
      "source": [
        "# 🎚️ II. Train Image (Qwen, Kontext)"
      ]
    },
    {
      "cell_type": "code",
      "execution_count": null,
      "metadata": {
        "cellView": "form",
        "id": "HYytXyzlj6PT"
      },
      "outputs": [],
      "source": [
        "#@title 📂 2. Kết nối - xử lý data\n",
        "\n",
        "ImageFolder = \"/content/drive/MyDrive/SD-Data/TrainData\"  # @param {type:'string'}\n",
        "# @markdown 🟡 `Thư mục control chỉ dùng cho train Kontext, Qwen-Edit`\n",
        "\n",
        "# @markdown 🟡 `Đặt tên, vị trí thư mục như ImageFolder, đặt hậu tố _{số} (control_0.jpg) nếu muốn train nhiều control cho một image`\n",
        "ControlFolder = \"\"  # @param {type:'string'}\n",
        "DataClean = False #@param {type:\"boolean\"}\n",
        "No_gen_caption = False #@param {type:\"boolean\"}\n",
        "# @markdown 🟡 `OCR Prompt`\n",
        "\n",
        "#@markdown 💡 ` Chạy Florence với Caption_Tools để tránh lỗi vặt, nên dùng Gemini API thay thế`\n",
        "\n",
        "#@markdown [![](https://img.shields.io/badge/Caption-Tools-blue)](https://colab.research.google.com/github/StableDiffusionVN/SDVN-training-colab-flux/blob/main/SDVN_Caption_Tools.ipynb)\n",
        "\n",
        "Caption_Image = 'None' # @param ['None', 'Florence', 'APIGemini | 2.5 Flash', ' APIGemini | 2.5 Pro', 'APIGemini | 2.5 Flash Lite',  'APIOpenAI | GPT 5', 'APIOpenAI | GPT 5-mini', 'APIOpenAI | GPT 5-nano']\n",
        "Caption_Length = \"Medium\" # @param [\"Short\",\"Medium\",\"Long\"]\n",
        "# @markdown 🟡 `API Caption`\n",
        "\n",
        "# @markdown [![](https://img.shields.io/badge/Gemini-API-blue)](https://aistudio.google.com/app/apikey)\n",
        "APIkey = \"\" # @param {type:'string'}\n",
        "API_Prompt = \"\" # @param {type:'string'}\n",
        "# @markdown 🟡 `Thêm caption tuỳ chọn`\n",
        "Custom_Caption = \"\" # @param {type:'string'}\n",
        "AddFolderName = False #@param {type:\"boolean\"}\n",
        "Remove_Caption = False #@param {type:\"boolean\"}\n",
        "Append = False #@param {type:\"boolean\"}\n",
        "\n",
        "if No_gen_caption == True:\n",
        "  Caption_Image = 'None'\n",
        "  Caption_Video = 'None'\n",
        "  Custom_Caption = ''\n",
        "  AddFolderName = False\n",
        "\n",
        "Cap_prompt = {\n",
        "    'Short':['<CAPTION>',0.85, 30],\n",
        "    'Medium':['<DETAILED_CAPTION>',0.5, 60],\n",
        "    'Long':['<MORE_DETAILED_CAPTION>',0.35, 100]\n",
        "}\n",
        "extension = \".txt\"\n",
        "\n",
        "if DataClean == True :\n",
        "  %cd /content\n",
        "  clean_directory(ImageFolder)\n",
        "if Caption_Image != \"None\":\n",
        "  caption_dir(ImageFolder,Cap_prompt[Caption_Length])\n",
        "\n",
        "list_train_dir = []\n",
        "list_train_dir.append(ImageFolder)\n",
        "\n",
        "if AddFolderName:\n",
        "  for dir in list_train_dir:\n",
        "    add_forder_name(dir)\n",
        "if Custom_Caption != \"\":\n",
        "  for dir in list_train_dir:\n",
        "    process_dir(dir, Custom_Caption, Append, Remove_Caption)\n",
        "\n",
        "\n",
        "if ControlFolder != \"\":\n",
        "  import shutil\n",
        "  shutil.copytree(ControlFolder, f\"/content/control_folder/{ControlFolder.split('/')[-2]}\", dirs_exist_ok=True)\n",
        "  ControlFolder = f\"/content/control_folder/{ControlFolder.split('/')[-2]}\"\n",
        "  config_control_image(ImageFolder,ControlFolder)\n"
      ]
    },
    {
      "cell_type": "code",
      "execution_count": null,
      "metadata": {
        "cellView": "form",
        "id": "Qut3j_jv8YZW"
      },
      "outputs": [],
      "source": [
        "#@title 🛠️ 3. Cấu hình train\n",
        "\n",
        "%run {repo_dir}/Config.ipynb\n",
        "\n",
        "model_type = \"kontext_dev\" # @param [\"kontext_dev\", \"qwen_image\", \"qwen_image_edit\"]\n",
        "# @markdown 💡 `Model tuỳ chọn (Nhận link tải civitai, huggingface, drive path)`\n",
        "model_train = \"\" # @param {type:'string'}\n",
        "output_dir = \"/content/drive/MyDrive/SD-Data/Lora\" # @param {type:'string'}\n",
        "output_name = \"lora_name\" # @param {type:'string'}\n",
        "resolution = \"1024\" # @param {type:'string'}\n",
        "batch_size = 1 # @param {type:'number'}\n",
        "resize_control = True #@param {type:\"boolean\"}\n",
        "image_dir = ImageFolder\n",
        "num_repeats = 50 # @param {type:'number'}\n",
        "max_train_epochs = 4 # @param {type:'number'}\n",
        "save_every_n_epochs = 1 # @param {type:'number'}\n",
        "save_last_n_epochs = 0 # @param {type:'number'}\n",
        "save_every_n_steps = 0 # @param {type:'number'}\n",
        "\n",
        "# @markdown *️⃣ `Điều chỉnh Learning Rate`\n",
        "learning_rate = 1e-4 # @param {type:'number'}\n",
        "optimizer_type = \"adamw8bit\" # @param [\"adamw\", \"adamw8bit\", \"adafactor\"]\n",
        "lr_scheduler = \"constant\" # @param [ \"cosine\", \"constant\", \"polynomial\"]\n",
        "network_dim = 64 # @param {type:'number'}\n",
        "network_alpha = 32 # @param {type:'number'}\n",
        "# @markdown *️⃣ `Chọn blocks to swap để giảm VRAM khi train Qwen Image, nện chọn với Qwen Edit`\n",
        "blocks_to_swap = False #@param {type:\"boolean\"}\n",
        "\n",
        "# @markdown *️⃣ `Bật/Tắt các tính năng mở rộng, bao gồm (info, sampler, sao lưu, log)`\n",
        "extra_option = True #@param {type:\"boolean\"}\n",
        "author = '' # @param {\"type\":\"string\"}\n",
        "description = '' # @param {\"type\":\"string\"}\n",
        "sample_prompt = \"\" #@param {type:'string'}\n",
        "sample_every_n_steps = 100 # @param {type:'number'}\n",
        "# @markdown 🟡 `Train kontext sẽ cần một ảnh đầu để chạy được sample, bỏ qua sẽ chọn tự động`\n",
        "sample_image_path = \"\" #@param {type:'string'}\n",
        "wandb_api_key = '' #@param {type:'string'}\n",
        "save_state = False #@param {type:\"boolean\"}\n",
        "save_state_on_train_end = False #@param {type:\"boolean\"}\n",
        "resume = \"\" #@param {type:'string'}\n",
        "\n",
        "#default\n",
        "resolution = [int(x) for x in resolution.split(\",\")]\n",
        "if len(resolution) == 1:\n",
        "  resolution = [resolution[0],resolution[0]]\n",
        "sample_size = resolution\n",
        "dataset = os.path.join(root_dir,\"dataset.toml\")\n",
        "\n",
        "data_config = data_config()\n",
        "dataset_file()\n",
        "config = config()\n",
        "extra = extra()\n",
        "folder_train = ImageFolder\n",
        "prompt(sample_prompt, sample_image_path)\n",
        "cache_latents_config = cache_latents_config()\n",
        "cache_text_encoder_config = cache_text_encoder_config()\n",
        "\n",
        "arg = f'accelerate launch {dic2arg(op)} {dic2arg(config)} {dic2arg(extra) if extra_option else \"\"}'\n",
        "print(arg)\n",
        "arg_latents_config = dic2arg(cache_latents_config)\n",
        "print(arg_latents_config)\n",
        "arg_text_encoder_config = dic2arg(cache_text_encoder_config)\n",
        "print(arg_text_encoder_config)\n",
        "print(\"Done\")"
      ]
    },
    {
      "cell_type": "code",
      "execution_count": null,
      "metadata": {
        "cellView": "form",
        "id": "_5s2v4fIiGXH"
      },
      "outputs": [],
      "source": [
        "#@title ⏳ 3. Training\n",
        "%cd /content/musubi-tuner\n",
        "run_cache = True #@param {type:\"boolean\"}\n",
        "if run_cache:\n",
        "  !{arg_latents_config}\n",
        "  !{arg_text_encoder_config}\n",
        "!{arg}\n",
        "\n",
        "AutoDisconect = False # @param {\"type\":\"boolean\"}\n",
        "if AutoDisconect:\n",
        "  from time import sleep\n",
        "  sleep(3*60)\n",
        "  from google.colab import runtime\n",
        "  runtime.unassign()"
      ]
    },
    {
      "cell_type": "markdown",
      "metadata": {
        "id": "STDQ7a1pl4pR"
      },
      "source": [
        "# 🎚️ III. Train Video (Wan, Hun) - Coming soon"
      ]
    }
  ],
  "metadata": {
    "accelerator": "GPU",
    "colab": {
      "cell_execution_strategy": "setup",
      "collapsed_sections": [
        "YXK9gCuIvzvs",
        "STDQ7a1pl4pR"
      ],
      "gpuType": "A100",
      "machine_shape": "hm",
      "private_outputs": true,
      "provenance": [],
      "include_colab_link": true
    },
    "kernelspec": {
      "display_name": "Python 3",
      "name": "python3"
    },
    "language_info": {
      "name": "python"
    }
  },
  "nbformat": 4,
  "nbformat_minor": 0
}